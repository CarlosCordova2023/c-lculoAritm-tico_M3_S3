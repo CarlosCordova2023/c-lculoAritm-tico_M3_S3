{
  "nbformat": 4,
  "nbformat_minor": 0,
  "metadata": {
    "colab": {
      "provenance": [],
      "authorship_tag": "ABX9TyNxupp8EGwuDkyfQsPAEPaL",
      "include_colab_link": true
    },
    "kernelspec": {
      "name": "python3",
      "display_name": "Python 3"
    },
    "language_info": {
      "name": "python"
    }
  },
  "cells": [
    {
      "cell_type": "markdown",
      "metadata": {
        "id": "view-in-github",
        "colab_type": "text"
      },
      "source": [
        "<a href=\"https://colab.research.google.com/github/CarlosCordova2023/c-lculoAritm-tico_M3_S3/blob/main/C%C3%A1lculoAritm%C3%A9tico.ipynb\" target=\"_parent\"><img src=\"https://colab.research.google.com/assets/colab-badge.svg\" alt=\"Open In Colab\"/></a>"
      ]
    },
    {
      "cell_type": "code",
      "execution_count": 1,
      "metadata": {
        "colab": {
          "base_uri": "https://localhost:8080/"
        },
        "id": "xpNkJIvVCJ_K",
        "outputId": "ddd43e81-eeb8-4a1d-89bc-47b98a082c00"
      },
      "outputs": [
        {
          "output_type": "stream",
          "name": "stdout",
          "text": [
            "El resultado de la multiplicación de a y b es: 600\n"
          ]
        }
      ],
      "source": [
        "# Asignamos el valor 20 a la variable 'a'\n",
        "a = 20\n",
        "\n",
        "# Asignamos el valor 30 a la variable 'b'\n",
        "b = 30\n",
        "\n",
        "# Calculamos el resultado de la multiplicación de 'a' y 'b'\n",
        "resultado = a * b\n",
        "\n",
        "# Imprimimos el resultado en pantalla\n",
        "print(\"El resultado de la multiplicación de a y b es:\", resultado)\n"
      ]
    },
    {
      "cell_type": "code",
      "source": [],
      "metadata": {
        "id": "9RaeN-S1C59w"
      },
      "execution_count": null,
      "outputs": []
    }
  ]
}